{
 "cells": [
  {
   "cell_type": "code",
   "execution_count": 1,
   "metadata": {},
   "outputs": [],
   "source": [
    "import numpy as np \n",
    "import pandas as pd "
   ]
  },
  {
   "cell_type": "code",
   "execution_count": 2,
   "metadata": {},
   "outputs": [],
   "source": [
    "df = pd.read_csv(\"./Tamil songs Dataset/archive/tamilSongsLyrics - tamilSongsLyrics.csv\")"
   ]
  },
  {
   "cell_type": "code",
   "execution_count": 3,
   "metadata": {},
   "outputs": [
    {
     "data": {
      "text/html": [
       "<div>\n",
       "<style scoped>\n",
       "    .dataframe tbody tr th:only-of-type {\n",
       "        vertical-align: middle;\n",
       "    }\n",
       "\n",
       "    .dataframe tbody tr th {\n",
       "        vertical-align: top;\n",
       "    }\n",
       "\n",
       "    .dataframe thead th {\n",
       "        text-align: right;\n",
       "    }\n",
       "</style>\n",
       "<table border=\"1\" class=\"dataframe\">\n",
       "  <thead>\n",
       "    <tr style=\"text-align: right;\">\n",
       "      <th></th>\n",
       "      <th>Sno</th>\n",
       "      <th>Song Name</th>\n",
       "      <th>Movie Name</th>\n",
       "      <th>Lyrics</th>\n",
       "    </tr>\n",
       "  </thead>\n",
       "  <tbody>\n",
       "    <tr>\n",
       "      <th>0</th>\n",
       "      <td>1</td>\n",
       "      <td>விளையாடா படகோட்டி</td>\n",
       "      <td>Dhoni</td>\n",
       "      <td>விளையாட்டா படகோட்டி\\nவிளையாடும் பருவம் போய்\\nந...</td>\n",
       "    </tr>\n",
       "    <tr>\n",
       "      <th>1</th>\n",
       "      <td>2</td>\n",
       "      <td>நான் யார் நீ யார்</td>\n",
       "      <td>Kudiyirundha Koyil</td>\n",
       "      <td>நான் யார் நான் யார் நீ யார்\\nநாலும் தெரிந்தவர்...</td>\n",
       "    </tr>\n",
       "    <tr>\n",
       "      <th>2</th>\n",
       "      <td>3</td>\n",
       "      <td>கூட்டத்துலே கோவில்</td>\n",
       "      <td>Idaya Kovil</td>\n",
       "      <td>கூட்டத்துலே கோவில் புறா யாரை இங்கு தேடுதம்மா\\n...</td>\n",
       "    </tr>\n",
       "    <tr>\n",
       "      <th>3</th>\n",
       "      <td>4</td>\n",
       "      <td>காதல் கசாட்டா</td>\n",
       "      <td>Kappal</td>\n",
       "      <td>காதல் கசாட்டா நெஞ்சில் இனிக்கூட\\nபசுந்தி பார்வ...</td>\n",
       "    </tr>\n",
       "    <tr>\n",
       "      <th>4</th>\n",
       "      <td>5</td>\n",
       "      <td>கண்ணுக்கு குலமேது</td>\n",
       "      <td>Karnan</td>\n",
       "      <td>கண்ணுக்கு குலமேது...\\n\\nகண்ணுக்கு குலமேது \\nகண...</td>\n",
       "    </tr>\n",
       "  </tbody>\n",
       "</table>\n",
       "</div>"
      ],
      "text/plain": [
       "   Sno           Song Name          Movie Name  \\\n",
       "0    1   விளையாடா படகோட்டி               Dhoni   \n",
       "1    2   நான் யார் நீ யார்  Kudiyirundha Koyil   \n",
       "2    3  கூட்டத்துலே கோவில்         Idaya Kovil   \n",
       "3    4       காதல் கசாட்டா              Kappal   \n",
       "4    5   கண்ணுக்கு குலமேது              Karnan   \n",
       "\n",
       "                                              Lyrics  \n",
       "0  விளையாட்டா படகோட்டி\\nவிளையாடும் பருவம் போய்\\nந...  \n",
       "1  நான் யார் நான் யார் நீ யார்\\nநாலும் தெரிந்தவர்...  \n",
       "2  கூட்டத்துலே கோவில் புறா யாரை இங்கு தேடுதம்மா\\n...  \n",
       "3  காதல் கசாட்டா நெஞ்சில் இனிக்கூட\\nபசுந்தி பார்வ...  \n",
       "4  கண்ணுக்கு குலமேது...\\n\\nகண்ணுக்கு குலமேது \\nகண...  "
      ]
     },
     "execution_count": 3,
     "metadata": {},
     "output_type": "execute_result"
    }
   ],
   "source": [
    "df.head()"
   ]
  },
  {
   "cell_type": "code",
   "execution_count": 4,
   "metadata": {},
   "outputs": [
    {
     "data": {
      "text/plain": [
       "(4216, 4)"
      ]
     },
     "execution_count": 4,
     "metadata": {},
     "output_type": "execute_result"
    }
   ],
   "source": [
    "df.shape"
   ]
  },
  {
   "cell_type": "code",
   "execution_count": 5,
   "metadata": {},
   "outputs": [
    {
     "name": "stdout",
     "output_type": "stream",
     "text": [
      "<class 'pandas.core.frame.DataFrame'>\n",
      "RangeIndex: 4216 entries, 0 to 4215\n",
      "Data columns (total 4 columns):\n",
      " #   Column      Non-Null Count  Dtype \n",
      "---  ------      --------------  ----- \n",
      " 0   Sno         4216 non-null   int64 \n",
      " 1   Song Name   4216 non-null   object\n",
      " 2   Movie Name  4216 non-null   object\n",
      " 3   Lyrics      4216 non-null   object\n",
      "dtypes: int64(1), object(3)\n",
      "memory usage: 131.9+ KB\n"
     ]
    }
   ],
   "source": [
    "df.info()"
   ]
  },
  {
   "cell_type": "code",
   "execution_count": 7,
   "metadata": {},
   "outputs": [],
   "source": [
    "df = df.drop(\"Sno\",axis = 1).reset_index(drop = True)"
   ]
  },
  {
   "cell_type": "code",
   "execution_count": 8,
   "metadata": {},
   "outputs": [
    {
     "data": {
      "text/html": [
       "<div>\n",
       "<style scoped>\n",
       "    .dataframe tbody tr th:only-of-type {\n",
       "        vertical-align: middle;\n",
       "    }\n",
       "\n",
       "    .dataframe tbody tr th {\n",
       "        vertical-align: top;\n",
       "    }\n",
       "\n",
       "    .dataframe thead th {\n",
       "        text-align: right;\n",
       "    }\n",
       "</style>\n",
       "<table border=\"1\" class=\"dataframe\">\n",
       "  <thead>\n",
       "    <tr style=\"text-align: right;\">\n",
       "      <th></th>\n",
       "      <th>Song Name</th>\n",
       "      <th>Movie Name</th>\n",
       "      <th>Lyrics</th>\n",
       "    </tr>\n",
       "  </thead>\n",
       "  <tbody>\n",
       "    <tr>\n",
       "      <th>0</th>\n",
       "      <td>விளையாடா படகோட்டி</td>\n",
       "      <td>Dhoni</td>\n",
       "      <td>விளையாட்டா படகோட்டி\\nவிளையாடும் பருவம் போய்\\nந...</td>\n",
       "    </tr>\n",
       "    <tr>\n",
       "      <th>1</th>\n",
       "      <td>நான் யார் நீ யார்</td>\n",
       "      <td>Kudiyirundha Koyil</td>\n",
       "      <td>நான் யார் நான் யார் நீ யார்\\nநாலும் தெரிந்தவர்...</td>\n",
       "    </tr>\n",
       "    <tr>\n",
       "      <th>2</th>\n",
       "      <td>கூட்டத்துலே கோவில்</td>\n",
       "      <td>Idaya Kovil</td>\n",
       "      <td>கூட்டத்துலே கோவில் புறா யாரை இங்கு தேடுதம்மா\\n...</td>\n",
       "    </tr>\n",
       "    <tr>\n",
       "      <th>3</th>\n",
       "      <td>காதல் கசாட்டா</td>\n",
       "      <td>Kappal</td>\n",
       "      <td>காதல் கசாட்டா நெஞ்சில் இனிக்கூட\\nபசுந்தி பார்வ...</td>\n",
       "    </tr>\n",
       "    <tr>\n",
       "      <th>4</th>\n",
       "      <td>கண்ணுக்கு குலமேது</td>\n",
       "      <td>Karnan</td>\n",
       "      <td>கண்ணுக்கு குலமேது...\\n\\nகண்ணுக்கு குலமேது \\nகண...</td>\n",
       "    </tr>\n",
       "  </tbody>\n",
       "</table>\n",
       "</div>"
      ],
      "text/plain": [
       "            Song Name          Movie Name  \\\n",
       "0   விளையாடா படகோட்டி               Dhoni   \n",
       "1   நான் யார் நீ யார்  Kudiyirundha Koyil   \n",
       "2  கூட்டத்துலே கோவில்         Idaya Kovil   \n",
       "3       காதல் கசாட்டா              Kappal   \n",
       "4   கண்ணுக்கு குலமேது              Karnan   \n",
       "\n",
       "                                              Lyrics  \n",
       "0  விளையாட்டா படகோட்டி\\nவிளையாடும் பருவம் போய்\\nந...  \n",
       "1  நான் யார் நான் யார் நீ யார்\\nநாலும் தெரிந்தவர்...  \n",
       "2  கூட்டத்துலே கோவில் புறா யாரை இங்கு தேடுதம்மா\\n...  \n",
       "3  காதல் கசாட்டா நெஞ்சில் இனிக்கூட\\nபசுந்தி பார்வ...  \n",
       "4  கண்ணுக்கு குலமேது...\\n\\nகண்ணுக்கு குலமேது \\nகண...  "
      ]
     },
     "execution_count": 8,
     "metadata": {},
     "output_type": "execute_result"
    }
   ],
   "source": [
    "df.head()"
   ]
  },
  {
   "cell_type": "code",
   "execution_count": 12,
   "metadata": {},
   "outputs": [
    {
     "data": {
      "text/plain": [
       "'விளையாடா படகோட்டி'"
      ]
     },
     "execution_count": 12,
     "metadata": {},
     "output_type": "execute_result"
    }
   ],
   "source": [
    "df['Song Name'][0]"
   ]
  },
  {
   "cell_type": "code",
   "execution_count": 14,
   "metadata": {},
   "outputs": [
    {
     "data": {
      "text/plain": [
       "1230"
      ]
     },
     "execution_count": 14,
     "metadata": {},
     "output_type": "execute_result"
    }
   ],
   "source": [
    "df['Lyrics'][0]"
   ]
  },
  {
   "cell_type": "code",
   "execution_count": 17,
   "metadata": {},
   "outputs": [],
   "source": [
    "df[\"Lyrics\"] = df['Lyrics'].str.lower().replace(r'\\n',\" \",regex = True)"
   ]
  },
  {
   "cell_type": "code",
   "execution_count": 18,
   "metadata": {},
   "outputs": [
    {
     "data": {
      "text/plain": [
       "'விளையாட்டா படகோட்டி விளையாடும் பருவம் போய் நெசமான ஓடம் போல் நாமானோம்.  விளையாட்டா படகோட்டி விளையாடும் பருவம் போய் நெசமான ஓடம் போல் நாமானோம்.  கரை காணா கடல் மேலே நீயும் நானும் தடுமாறும் ஓடம் போல் தாவிப்பார்த்தோம் என்னானாலும் ஏற்பதுதான் வாழ்க்கையம்மா  விளையாட்டா படகோட்டி விளையாடும் பருவம் போய் நெசமான ஓடம் போல் நாமானோம்.  தத்தி தத்தி நீரில் ஆடி சுத்தி சுத்தி சுழலும் போதும் அக்கரைக்கு போகத்தானே அல்லாடும் எத்தனையோ புயலும் கண்டு கொட்டும் மழையில் பொறுமையும் கொண்டு தொலை தூரம் சேரத்தானே தள்ளாடும் தன்னோட வழி எல்லாம் தன்னைத்தவிர துணையுண்டா திசையெல்லாம் வழியாகும் ஒருவழிதான் உனக்காகும் எப்போது கரையைச்சேரும் ஓடம் ஓடம்?  விளையாட்டா படகோட்டி விளையாடும் பருவம் போய் நெசமான ஓடம் போல் நாமானோம்.  கட்டுமரம் என்றால் என்ன வெட்டுப்பட்ட மரங்கள்தானே கஷ்டப்படும் நீயும் நானும் அது போலே பட்டபாடு அலைகள் போலே விட்டு விட்டு மோதிப்பார்க்கும் எட்டி நிற்கத் திரும்பத்திரும்ப விளையாடும் கடலிருந்தும் கட்டுமரம் ஆழத்தை அறியாது கடல்சேரும் நதியெல்லாம் திரும்பித்தான் போகாது முடிவில்லா முடிவுக்கேது முடிவு முடிவு?  விளையாட்டா படகோட்டி விளையாடும் பருவம் போய் நெசமான ஓடம் போல் நாமானோம். கரை காணா கடல் மேலே நீயும் நானும் தடுமாறும் ஓடம் போல் தாவிப்பார்த்தோம் என்னானாலும் ஏற்பதுதான் வாழ்க்கையம்மா விளையாட்டா படகோட்டி விளையாடும் பருவம் போய் நெசமான ஓடம் போல் நாமானோம்'"
      ]
     },
     "execution_count": 18,
     "metadata": {},
     "output_type": "execute_result"
    }
   ],
   "source": [
    "df[\"Lyrics\"][0]"
   ]
  },
  {
   "cell_type": "code",
   "execution_count": 19,
   "metadata": {},
   "outputs": [],
   "source": [
    "import string\n",
    "def punctuation_remove(text_data):\n",
    "    return \"\".join([t for t in text_data if t not in string.punctuation])"
   ]
  },
  {
   "cell_type": "code",
   "execution_count": 20,
   "metadata": {},
   "outputs": [],
   "source": [
    "df['Lyrics'] = df['Lyrics'].apply(lambda x: punctuation_remove(x))"
   ]
  },
  {
   "cell_type": "code",
   "execution_count": 21,
   "metadata": {},
   "outputs": [
    {
     "data": {
      "text/plain": [
       "'விளையாட்டா படகோட்டி விளையாடும் பருவம் போய் நெசமான ஓடம் போல் நாமானோம்  விளையாட்டா படகோட்டி விளையாடும் பருவம் போய் நெசமான ஓடம் போல் நாமானோம்  கரை காணா கடல் மேலே நீயும் நானும் தடுமாறும் ஓடம் போல் தாவிப்பார்த்தோம் என்னானாலும் ஏற்பதுதான் வாழ்க்கையம்மா  விளையாட்டா படகோட்டி விளையாடும் பருவம் போய் நெசமான ஓடம் போல் நாமானோம்  தத்தி தத்தி நீரில் ஆடி சுத்தி சுத்தி சுழலும் போதும் அக்கரைக்கு போகத்தானே அல்லாடும் எத்தனையோ புயலும் கண்டு கொட்டும் மழையில் பொறுமையும் கொண்டு தொலை தூரம் சேரத்தானே தள்ளாடும் தன்னோட வழி எல்லாம் தன்னைத்தவிர துணையுண்டா திசையெல்லாம் வழியாகும் ஒருவழிதான் உனக்காகும் எப்போது கரையைச்சேரும் ஓடம் ஓடம்  விளையாட்டா படகோட்டி விளையாடும் பருவம் போய் நெசமான ஓடம் போல் நாமானோம்  கட்டுமரம் என்றால் என்ன வெட்டுப்பட்ட மரங்கள்தானே கஷ்டப்படும் நீயும் நானும் அது போலே பட்டபாடு அலைகள் போலே விட்டு விட்டு மோதிப்பார்க்கும் எட்டி நிற்கத் திரும்பத்திரும்ப விளையாடும் கடலிருந்தும் கட்டுமரம் ஆழத்தை அறியாது கடல்சேரும் நதியெல்லாம் திரும்பித்தான் போகாது முடிவில்லா முடிவுக்கேது முடிவு முடிவு  விளையாட்டா படகோட்டி விளையாடும் பருவம் போய் நெசமான ஓடம் போல் நாமானோம் கரை காணா கடல் மேலே நீயும் நானும் தடுமாறும் ஓடம் போல் தாவிப்பார்த்தோம் என்னானாலும் ஏற்பதுதான் வாழ்க்கையம்மா விளையாட்டா படகோட்டி விளையாடும் பருவம் போய் நெசமான ஓடம் போல் நாமானோம்'"
      ]
     },
     "execution_count": 21,
     "metadata": {},
     "output_type": "execute_result"
    }
   ],
   "source": [
    "df['Lyrics'][0]"
   ]
  },
  {
   "cell_type": "code",
   "execution_count": 37,
   "metadata": {},
   "outputs": [],
   "source": [
    "import nltk\n",
    "from nltk.stem.porter import PorterStemmer"
   ]
  },
  {
   "cell_type": "code",
   "execution_count": 33,
   "metadata": {},
   "outputs": [],
   "source": [
    "with open(\"Tamil_stop_words.txt\", \"r\", encoding=\"utf-8\") as file:\n",
    "    stop_words = [line.strip() for line in file]"
   ]
  },
  {
   "cell_type": "code",
   "execution_count": 34,
   "metadata": {},
   "outputs": [],
   "source": [
    "def remove_stop_words(text):\n",
    "    words = text.split()\n",
    "    filtered_words = [word for word in words if word not in stop_words]\n",
    "    return ' '.join(filtered_words)"
   ]
  },
  {
   "cell_type": "code",
   "execution_count": 35,
   "metadata": {},
   "outputs": [],
   "source": [
    "df['Lyrics'] = df['Lyrics'].apply(remove_stop_words)"
   ]
  },
  {
   "cell_type": "code",
   "execution_count": 36,
   "metadata": {},
   "outputs": [
    {
     "data": {
      "text/plain": [
       "'விளையாட்டா படகோட்டி விளையாடும் பருவம் போய் நெசமான ஓடம் நாமானோம் விளையாட்டா படகோட்டி விளையாடும் பருவம் போய் நெசமான ஓடம் நாமானோம் கரை காணா கடல் மேலே நீயும் நானும் தடுமாறும் ஓடம் தாவிப்பார்த்தோம் என்னானாலும் ஏற்பதுதான் வாழ்க்கையம்மா விளையாட்டா படகோட்டி விளையாடும் பருவம் போய் நெசமான ஓடம் நாமானோம் தத்தி தத்தி நீரில் ஆடி சுத்தி சுத்தி சுழலும் போதும் அக்கரைக்கு போகத்தானே அல்லாடும் எத்தனையோ புயலும் கண்டு கொட்டும் மழையில் பொறுமையும் தொலை தூரம் சேரத்தானே தள்ளாடும் தன்னோட வழி தன்னைத்தவிர துணையுண்டா திசையெல்லாம் வழியாகும் ஒருவழிதான் உனக்காகும் எப்போது கரையைச்சேரும் ஓடம் ஓடம் விளையாட்டா படகோட்டி விளையாடும் பருவம் போய் நெசமான ஓடம் நாமானோம் கட்டுமரம் என்றால் வெட்டுப்பட்ட மரங்கள்தானே கஷ்டப்படும் நீயும் நானும் போலே பட்டபாடு அலைகள் போலே மோதிப்பார்க்கும் எட்டி நிற்கத் திரும்பத்திரும்ப விளையாடும் கடலிருந்தும் கட்டுமரம் ஆழத்தை அறியாது கடல்சேரும் நதியெல்லாம் திரும்பித்தான் போகாது முடிவில்லா முடிவுக்கேது முடிவு முடிவு விளையாட்டா படகோட்டி விளையாடும் பருவம் போய் நெசமான ஓடம் நாமானோம் கரை காணா கடல் மேலே நீயும் நானும் தடுமாறும் ஓடம் தாவிப்பார்த்தோம் என்னானாலும் ஏற்பதுதான் வாழ்க்கையம்மா விளையாட்டா படகோட்டி விளையாடும் பருவம் போய் நெசமான ஓடம் நாமானோம்'"
      ]
     },
     "execution_count": 36,
     "metadata": {},
     "output_type": "execute_result"
    }
   ],
   "source": [
    "df[\"Lyrics\"][0]"
   ]
  },
  {
   "cell_type": "code",
   "execution_count": 38,
   "metadata": {},
   "outputs": [],
   "source": [
    "ps = PorterStemmer()    "
   ]
  },
  {
   "cell_type": "code",
   "execution_count": 40,
   "metadata": {},
   "outputs": [],
   "source": [
    "def tokenizer(text):\n",
    "    tokens = nltk.word_tokenize(text)\n",
    "    stemming = [ps.stem(w) for w in tokens]\n",
    "    return \" \".join(stemming)"
   ]
  },
  {
   "cell_type": "code",
   "execution_count": 41,
   "metadata": {},
   "outputs": [],
   "source": [
    "df[\"Lyrics\"] = df[\"Lyrics\"].apply(lambda x : tokenizer(x))"
   ]
  },
  {
   "cell_type": "code",
   "execution_count": 44,
   "metadata": {},
   "outputs": [],
   "source": [
    "from sklearn.feature_extraction.text import TfidfVectorizer\n",
    "from sklearn.metrics.pairwise import cosine_similarity"
   ]
  },
  {
   "cell_type": "code",
   "execution_count": 48,
   "metadata": {},
   "outputs": [],
   "source": [
    "tfidf = TfidfVectorizer()"
   ]
  },
  {
   "cell_type": "code",
   "execution_count": 49,
   "metadata": {},
   "outputs": [],
   "source": [
    "matrix = tfidf.fit_transform(df[\"Lyrics\"])"
   ]
  },
  {
   "cell_type": "code",
   "execution_count": 50,
   "metadata": {},
   "outputs": [
    {
     "data": {
      "text/plain": [
       "(4216, 5972)"
      ]
     },
     "execution_count": 50,
     "metadata": {},
     "output_type": "execute_result"
    }
   ],
   "source": [
    "matrix.shape"
   ]
  },
  {
   "cell_type": "code",
   "execution_count": 52,
   "metadata": {},
   "outputs": [],
   "source": [
    "similarity = cosine_similarity(matrix)"
   ]
  },
  {
   "cell_type": "code",
   "execution_count": 53,
   "metadata": {},
   "outputs": [
    {
     "data": {
      "text/plain": [
       "array([[1.        , 0.04500719, 0.02129837, ..., 0.01984492, 0.04509234,\n",
       "        0.03709544],\n",
       "       [0.04500719, 1.        , 0.05733862, ..., 0.01259327, 0.07303674,\n",
       "        0.20434495],\n",
       "       [0.02129837, 0.05733862, 1.        , ..., 0.02670081, 0.01694079,\n",
       "        0.02395452],\n",
       "       ...,\n",
       "       [0.01984492, 0.01259327, 0.02670081, ..., 1.        , 0.03188218,\n",
       "        0.01708777],\n",
       "       [0.04509234, 0.07303674, 0.01694079, ..., 0.03188218, 1.        ,\n",
       "        0.082157  ],\n",
       "       [0.03709544, 0.20434495, 0.02395452, ..., 0.01708777, 0.082157  ,\n",
       "        1.        ]])"
      ]
     },
     "execution_count": 53,
     "metadata": {},
     "output_type": "execute_result"
    }
   ],
   "source": [
    "similarity"
   ]
  },
  {
   "cell_type": "code",
   "execution_count": 64,
   "metadata": {},
   "outputs": [
    {
     "data": {
      "text/plain": [
       "'உலகே மாயம்'"
      ]
     },
     "execution_count": 64,
     "metadata": {},
     "output_type": "execute_result"
    }
   ],
   "source": [
    "df[\"Song Name\"][76]"
   ]
  },
  {
   "cell_type": "code",
   "execution_count": 65,
   "metadata": {},
   "outputs": [],
   "source": []
  },
  {
   "cell_type": "code",
   "execution_count": null,
   "metadata": {},
   "outputs": [],
   "source": []
  }
 ],
 "metadata": {
  "kernelspec": {
   "display_name": "master",
   "language": "python",
   "name": "python3"
  },
  "language_info": {
   "codemirror_mode": {
    "name": "ipython",
    "version": 3
   },
   "file_extension": ".py",
   "mimetype": "text/x-python",
   "name": "python",
   "nbconvert_exporter": "python",
   "pygments_lexer": "ipython3",
   "version": "3.10.13"
  }
 },
 "nbformat": 4,
 "nbformat_minor": 2
}
